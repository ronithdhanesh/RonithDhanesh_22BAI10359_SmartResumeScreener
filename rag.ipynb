{
 "cells": [
  {
   "cell_type": "code",
   "execution_count": 7,
   "id": "983b3113",
   "metadata": {},
   "outputs": [],
   "source": [
    "from llama_cloud_services import LlamaParse"
   ]
  },
  {
   "cell_type": "code",
   "execution_count": 3,
   "id": "4f026629",
   "metadata": {},
   "outputs": [
    {
     "data": {
      "text/plain": [
       "True"
      ]
     },
     "execution_count": 3,
     "metadata": {},
     "output_type": "execute_result"
    }
   ],
   "source": [
    "import os\n",
    "from dotenv import load_dotenv\n",
    "load_dotenv()"
   ]
  },
  {
   "cell_type": "code",
   "execution_count": 4,
   "id": "1a7a4b13",
   "metadata": {},
   "outputs": [],
   "source": [
    "os.environ[\"LLAMA_CLOUD_API_KEY\"] = os.getenv(\"LLAMA_CLOUD_API_KEY\")\n",
    "os.environ[\"GOOGLE_API_KEY\"] = os.getenv(\"GOOGLE_API_KEY\")"
   ]
  },
  {
   "cell_type": "code",
   "execution_count": 5,
   "id": "9f87d6b8",
   "metadata": {},
   "outputs": [],
   "source": [
    "parser = LlamaParse(\n",
    "    num_workers=4,       # if multiple files passed, split in `num_workers` API calls\n",
    "    verbose=True,\n",
    "    language=\"en\", \n",
    ")"
   ]
  },
  {
   "cell_type": "code",
   "execution_count": 6,
   "id": "e2e51eec",
   "metadata": {},
   "outputs": [
    {
     "name": "stdout",
     "output_type": "stream",
     "text": [
      "Started parsing the file under job_id d2a2ae68-1082-443a-aa29-761164b84749\n"
     ]
    }
   ],
   "source": [
    "result = parser.parse(\"Ronith Dhanesh.pdf\")"
   ]
  },
  {
   "cell_type": "code",
   "execution_count": 6,
   "id": "e00ef9d9",
   "metadata": {},
   "outputs": [
    {
     "data": {
      "text/plain": [
       "JobResult(pages=[Page(page=1, text='                                                RONITH DHANESH\\n                      +91-6238159514 | ronithdhanesh@gmail.com | LinkedIn | GitHub\\nEDUCATION\\n\\n     •         VIT Bhopal University, Madhya Pradesh                                          (August, 2022- pursuing)\\n               B. Tech CSE(AIML) | CGPA: 8.52\\nSKILLS\\n     • Programming Languages: Python, Java, JavaScript, SQL\\n     • AI/ML and Libraries: TensorFlow, PyTorch, LangChain, LangGraph, Scikit-learn, OpenCV, NumPy, Pandas\\n     • Web Technologies: HTML, CSS, Streamlit, FastAPI\\n     • Tools and Frameworks: Git, Docker\\n     • Core Competencies: Generative AI & Agentic AI, Model Training & Evaluation, Computer Vision & Speech\\n     Recognition\\n\\nPROJECTS\\n\\nMultimodal Retrieval-Augmented Generation (RAG) System                                                          (June, 2025)\\nPython, LangChain, Google Gemini, CLIP, Streamlit, PyMuPDF\\n          •     Engineered a multimodal RAG system that improved information retrieval efficiency by over 90% by synthesizing\\n                data from both text and images in PDF documents.\\n          •     Utilized a multimodal model like CLIP to process documents containing up to 500 images, achieving high-fidelity\\n                embeddings in a unified vector space.\\n          •     Optimized application performance by reducing index build time by 98%, using a pre-built and saved vector database\\n                to enable near-instantaneous query responses.\\n          •     Live Demo: https://multimodal-rag-app-ronith.streamlit.app/\\n\\nAI-Powered Medical Report Analyzer                                                                              (June, 2025)\\nPython, LangChain, Groq, Tesseract OCR, Streamlit\\n          •     Engineered an AI-driven medical report analysis system by integrating OCR and LLMs via a LangChain framework\\n                to automate the extraction and interpretation of critical medical terminology.\\n          •     Developed a responsive web application with Streamlit, enabling real-time, multi-format and batch processing that\\n                reduced manual review time for medical reports by over 60%.\\n          •     Implemented robust data validation pipelines and error handling, significantly enhancing diagnostic workflow\\n                efficiency and improving accuracy for healthcare professionals.\\n\\nReal-Time Vehicle Detection and Counting System                                                                 (April, 2025)\\nPython, OpenCV, YOLOv8, SORT, Numpy\\n          •     Developed a computer vision pipeline that accurately monitors and counts vehicles in complex traffic scenarios\\n                using YOLOv8 detection and the SORT tracking algorithm.\\n          •     Optimized model performance by implementing binary masking techniques, achieving a stable 30+ FPS and a 40%\\n                reduction in computational load.\\n          •     Created an automated traffic data collection solution for urban planning initiatives, reducing the need for expensive\\n                and error-prone manual counting methods.\\n\\nEXTRACURRICULARS\\n\\n•         Certifications: IBM GenAI using Watsonx | IBM Blockchain Developer | IBM Blockchain Fundamentals |\\n          Applied Machine Learning in Python – Coursera | Gen AI – AdroIT Technologies | Blockchain – AdroIT\\n          Technologies\\n•         Media Team Lead: Malayalam Club – Directed content strategy and managed all social media platforms to promote club\\n          events and enhance public presence and engagement.\\n•         Strengths: Public speaking, event and people management, budgeting, creative planning, and leadership.\\n\\nADDITIONALS\\n\\n•         Languages: Fluent in English, Malayalam and Hindi', md='\\nRONITH DHANESH\\n+91-6238159514 | ronithdhanesh@gmail.com | LinkedIn | GitHub\\n\\n# EDUCATION\\n\\n• VIT Bhopal University, Madhya Pradesh (August, 2022- pursuing)\\n\\nB. Tech CSE(AIML) | CGPA: 8.52\\n\\n# SKILLS\\n\\n• Programming Languages: Python, Java, JavaScript, SQL\\n\\n• AI/ML and Libraries: TensorFlow, PyTorch, LangChain, LangGraph, Scikit-learn, OpenCV, NumPy, Pandas\\n\\n• Web Technologies: HTML, CSS, Streamlit, FastAPI\\n\\n• Tools and Frameworks: Git, Docker\\n\\n• Core Competencies: Generative AI &#x26; Agentic AI, Model Training &#x26; Evaluation, Computer Vision &#x26; Speech Recognition\\n\\n# PROJECTS\\n\\n# Multimodal Retrieval-Augmented Generation (RAG) System (June, 2025)\\n\\nPython, LangChain, Google Gemini, CLIP, Streamlit, PyMuPDF\\n\\n• Engineered a multimodal RAG system that improved information retrieval efficiency by over 90% by synthesizing data from both text and images in PDF documents.\\n\\n• Utilized a multimodal model like CLIP to process documents containing up to 500 images, achieving high-fidelity embeddings in a unified vector space.\\n\\n• Optimized application performance by reducing index build time by 98%, using a pre-built and saved vector database to enable near-instantaneous query responses.\\n\\n• Live Demo: https://multimodal-rag-app-ronith.streamlit.app/\\n\\n# AI-Powered Medical Report Analyzer (June, 2025)\\n\\nPython, LangChain, Groq, Tesseract OCR, Streamlit\\n\\n• Engineered an AI-driven medical report analysis system by integrating OCR and LLMs via a LangChain framework to automate the extraction and interpretation of critical medical terminology.\\n\\n• Developed a responsive web application with Streamlit, enabling real-time, multi-format and batch processing that reduced manual review time for medical reports by over 60%.\\n\\n• Implemented robust data validation pipelines and error handling, significantly enhancing diagnostic workflow efficiency and improving accuracy for healthcare professionals.\\n\\n# Real-Time Vehicle Detection and Counting System (April, 2025)\\n\\nPython, OpenCV, YOLOv8, SORT, Numpy\\n\\n• Developed a computer vision pipeline that accurately monitors and counts vehicles in complex traffic scenarios using YOLOv8 detection and the SORT tracking algorithm.\\n\\n• Optimized model performance by implementing binary masking techniques, achieving a stable 30+ FPS and a 40% reduction in computational load.\\n\\n• Created an automated traffic data collection solution for urban planning initiatives, reducing the need for expensive and error-prone manual counting methods.\\n\\n# EXTRACURRICULARS\\n\\n• Certifications: IBM GenAI using Watsonx | IBM Blockchain Developer | IBM Blockchain Fundamentals | Applied Machine Learning in Python – Coursera | Gen AI – AdroIT Technologies | Blockchain – AdroIT Technologies\\n\\n• Media Team Lead: Malayalam Club – Directed content strategy and managed all social media platforms to promote club events and enhance public presence and engagement.\\n\\n• Strengths: Public speaking, event and people management, budgeting, creative planning, and leadership.\\n\\n# ADDITIONALS\\n\\n• Languages: Fluent in English, Malayalam and Hindi\\n\\n', images=[], charts=[], tables=[], layout=[], items=[PageItem(type='text', lvl=None, value='RONITH DHANESH\\n+91-6238159514 | ronithdhanesh@gmail.com | LinkedIn | GitHub', md='RONITH DHANESH\\n+91-6238159514 | ronithdhanesh@gmail.com | LinkedIn | GitHub', rows=None, bBox=BBox(x=146.18, y=30.6, w=286.31, h=27.48), html=None), PageItem(type='heading', lvl=1, value='EDUCATION', md='# EDUCATION', rows=None, bBox=BBox(x=36.0, y=60.96, w=66.42, h=11.04), html=None), PageItem(type='text', lvl=None, value='• VIT Bhopal University, Madhya Pradesh (August, 2022- pursuing)', md='• VIT Bhopal University, Madhya Pradesh (August, 2022- pursuing)', rows=None, bBox=BBox(x=36.0, y=87.98, w=537.64, h=681.7), html=None), PageItem(type='text', lvl=None, value='B. Tech CSE(AIML) | CGPA: 8.52', md='B. Tech CSE(AIML) | CGPA: 8.52', rows=None, bBox=BBox(x=65.06, y=102.14, w=147.87, h=11.04), html=None), PageItem(type='heading', lvl=1, value='SKILLS', md='# SKILLS', rows=None, bBox=BBox(x=36.0, y=115.22, w=39.25, h=11.04), html=None), PageItem(type='text', lvl=None, value='• Programming Languages: Python, Java, JavaScript, SQL', md='• Programming Languages: Python, Java, JavaScript, SQL', rows=None, bBox=BBox(x=36.0, y=87.98, w=269.84, h=681.7), html=None), PageItem(type='text', lvl=None, value='• AI/ML and Libraries: TensorFlow, PyTorch, LangChain, LangGraph, Scikit-learn, OpenCV, NumPy, Pandas', md='• AI/ML and Libraries: TensorFlow, PyTorch, LangChain, LangGraph, Scikit-learn, OpenCV, NumPy, Pandas', rows=None, bBox=BBox(x=36.0, y=87.98, w=498.91, h=681.7), html=None), PageItem(type='text', lvl=None, value='• Web Technologies: HTML, CSS, Streamlit, FastAPI', md='• Web Technologies: HTML, CSS, Streamlit, FastAPI', rows=None, bBox=BBox(x=36.0, y=87.98, w=247.8, h=681.7), html=None), PageItem(type='text', lvl=None, value='• Tools and Frameworks: Git, Docker', md='• Tools and Frameworks: Git, Docker', rows=None, bBox=BBox(x=36.0, y=87.98, w=179.98, h=681.7), html=None), PageItem(type='text', lvl=None, value='• Core Competencies: Generative AI &#x26; Agentic AI, Model Training &#x26; Evaluation, Computer Vision &#x26; Speech Recognition', md='• Core Competencies: Generative AI &#x26; Agentic AI, Model Training &#x26; Evaluation, Computer Vision &#x26; Speech Recognition', rows=None, bBox=BBox(x=36.0, y=87.98, w=69.49, h=681.7), html=None), PageItem(type='heading', lvl=1, value='PROJECTS', md='# PROJECTS', rows=None, bBox=BBox(x=36.0, y=233.66, w=56.67, h=11.04), html=None), PageItem(type='heading', lvl=1, value='Multimodal Retrieval-Augmented Generation (RAG) System (June, 2025)', md='# Multimodal Retrieval-Augmented Generation (RAG) System (June, 2025)', rows=None, bBox=BBox(x=37.2, y=258.17, w=528.78, h=135.12), html=None), PageItem(type='text', lvl=None, value='Python, LangChain, Google Gemini, CLIP, Streamlit, PyMuPDF', md='Python, LangChain, Google Gemini, CLIP, Streamlit, PyMuPDF', rows=None, bBox=BBox(x=37.2, y=270.89, w=287.46, h=11.04), html=None), PageItem(type='text', lvl=None, value='• Engineered a multimodal RAG system that improved information retrieval efficiency by over 90% by synthesizing data from both text and images in PDF documents.', md='• Engineered a multimodal RAG system that improved information retrieval efficiency by over 90% by synthesizing data from both text and images in PDF documents.', rows=None, bBox=BBox(x=36.0, y=87.98, w=541.98, h=681.7), html=None), PageItem(type='text', lvl=None, value='• Utilized a multimodal model like CLIP to process documents containing up to 500 images, achieving high-fidelity embeddings in a unified vector space.', md='• Utilized a multimodal model like CLIP to process documents containing up to 500 images, achieving high-fidelity embeddings in a unified vector space.', rows=None, bBox=BBox(x=36.0, y=87.98, w=539.6, h=681.7), html=None), PageItem(type='text', lvl=None, value='• Optimized application performance by reducing index build time by 98%, using a pre-built and saved vector database to enable near-instantaneous query responses.', md='• Optimized application performance by reducing index build time by 98%, using a pre-built and saved vector database to enable near-instantaneous query responses.', rows=None, bBox=BBox(x=36.0, y=87.98, w=553.94, h=681.7), html=None), PageItem(type='text', lvl=None, value='• Live Demo: https://multimodal-rag-app-ronith.streamlit.app/', md='• Live Demo: https://multimodal-rag-app-ronith.streamlit.app/', rows=None, bBox=BBox(x=36.0, y=87.98, w=303.19, h=681.7), html=None), PageItem(type='heading', lvl=1, value='AI-Powered Medical Report Analyzer (June, 2025)', md='# AI-Powered Medical Report Analyzer (June, 2025)', rows=None, bBox=BBox(x=37.2, y=258.17, w=528.78, h=135.12), html=None), PageItem(type='text', lvl=None, value='Python, LangChain, Groq, Tesseract OCR, Streamlit', md='Python, LangChain, Groq, Tesseract OCR, Streamlit', rows=None, bBox=BBox(x=37.2, y=394.85, w=231.13, h=11.04), html=None), PageItem(type='text', lvl=None, value='• Engineered an AI-driven medical report analysis system by integrating OCR and LLMs via a LangChain framework to automate the extraction and interpretation of critical medical terminology.', md='• Engineered an AI-driven medical report analysis system by integrating OCR and LLMs via a LangChain framework to automate the extraction and interpretation of critical medical terminology.', rows=None, bBox=BBox(x=36.0, y=87.98, w=546.2, h=681.7), html=None), PageItem(type='text', lvl=None, value='• Developed a responsive web application with Streamlit, enabling real-time, multi-format and batch processing that reduced manual review time for medical reports by over 60%.', md='• Developed a responsive web application with Streamlit, enabling real-time, multi-format and batch processing that reduced manual review time for medical reports by over 60%.', rows=None, bBox=BBox(x=36.0, y=87.98, w=538.96, h=681.7), html=None), PageItem(type='text', lvl=None, value='• Implemented robust data validation pipelines and error handling, significantly enhancing diagnostic workflow efficiency and improving accuracy for healthcare professionals.', md='• Implemented robust data validation pipelines and error handling, significantly enhancing diagnostic workflow efficiency and improving accuracy for healthcare professionals.', rows=None, bBox=BBox(x=36.0, y=87.98, w=518.65, h=681.7), html=None), PageItem(type='heading', lvl=1, value='Real-Time Vehicle Detection and Counting System (April, 2025)', md='# Real-Time Vehicle Detection and Counting System (April, 2025)', rows=None, bBox=BBox(x=37.2, y=496.03, w=528.53, h=11.04), html=None), PageItem(type='text', lvl=None, value='Python, OpenCV, YOLOv8, SORT, Numpy', md='Python, OpenCV, YOLOv8, SORT, Numpy', rows=None, bBox=BBox(x=37.2, y=508.51, w=187.04, h=11.04), html=None), PageItem(type='text', lvl=None, value='• Developed a computer vision pipeline that accurately monitors and counts vehicles in complex traffic scenarios using YOLOv8 detection and the SORT tracking algorithm.', md='• Developed a computer vision pipeline that accurately monitors and counts vehicles in complex traffic scenarios using YOLOv8 detection and the SORT tracking algorithm.', rows=None, bBox=BBox(x=36.0, y=87.98, w=524.22, h=681.7), html=None), PageItem(type='text', lvl=None, value='• Optimized model performance by implementing binary masking techniques, achieving a stable 30+ FPS and a 40% reduction in computational load.', md='• Optimized model performance by implementing binary masking techniques, achieving a stable 30+ FPS and a 40% reduction in computational load.', rows=None, bBox=BBox(x=36.0, y=87.98, w=541.74, h=681.7), html=None), PageItem(type='text', lvl=None, value='• Created an automated traffic data collection solution for urban planning initiatives, reducing the need for expensive and error-prone manual counting methods.', md='• Created an automated traffic data collection solution for urban planning initiatives, reducing the need for expensive and error-prone manual counting methods.', rows=None, bBox=BBox(x=36.0, y=87.98, w=541.52, h=681.7), html=None), PageItem(type='heading', lvl=1, value='EXTRACURRICULARS', md='# EXTRACURRICULARS', rows=None, bBox=BBox(x=36.0, y=610.66, w=118.23, h=11.04), html=None), PageItem(type='text', lvl=None, value='• Certifications: IBM GenAI using Watsonx | IBM Blockchain Developer | IBM Blockchain Fundamentals | Applied Machine Learning in Python – Coursera | Gen AI – AdroIT Technologies | Blockchain – AdroIT Technologies', md='• Certifications: IBM GenAI using Watsonx | IBM Blockchain Developer | IBM Blockchain Fundamentals | Applied Machine Learning in Python – Coursera | Gen AI – AdroIT Technologies | Blockchain – AdroIT Technologies', rows=None, bBox=BBox(x=36.0, y=87.98, w=488.43, h=681.7), html=None), PageItem(type='text', lvl=None, value='• Media Team Lead: Malayalam Club – Directed content strategy and managed all social media platforms to promote club events and enhance public presence and engagement.', md='• Media Team Lead: Malayalam Club – Directed content strategy and managed all social media platforms to promote club events and enhance public presence and engagement.', rows=None, bBox=BBox(x=36.0, y=87.98, w=552.82, h=681.7), html=None), PageItem(type='text', lvl=None, value='• Strengths: Public speaking, event and people management, budgeting, creative planning, and leadership.', md='• Strengths: Public speaking, event and people management, budgeting, creative planning, and leadership.', rows=None, bBox=BBox(x=36.0, y=87.98, w=473.5, h=681.7), html=None), PageItem(type='heading', lvl=1, value='ADDITIONALS', md='# ADDITIONALS', rows=None, bBox=BBox(x=36.0, y=731.5, w=76.58, h=11.04), html=None), PageItem(type='text', lvl=None, value='• Languages: Fluent in English, Malayalam and Hindi', md='• Languages: Fluent in English, Malayalam and Hindi', rows=None, bBox=BBox(x=36.0, y=87.98, w=249.0, h=681.7), html=None)], status='OK', links=[{'url': 'mailto:ronithdhanesh@gmail.com', 'unsafeUrl': 'mailto:ronithdhanesh@gmail.com', 'text': '|'}, {'url': 'https://www.linkedin.com/in/ronithdhanesh/', 'unsafeUrl': 'https://www.linkedin.com/in/ronithdhanesh/', 'text': 'LinkedIn'}, {'url': 'https://github.com/ronithdhanesh', 'unsafeUrl': 'https://github.com/ronithdhanesh', 'text': 'GitHub'}, {'url': 'https://multimodal-rag-app-ronith.streamlit.app/', 'unsafeUrl': 'https://multimodal-rag-app-ronith.streamlit.app/', 'text': ''}], width=612.0, height=792.0, triggeredAutoMode=False, parsingMode='accurate', structuredData=None, noStructuredContent=False, noTextContent=False, isAudioTranscript=False, durationInSeconds=None, slideSpeakerNotes=None, originalOrientationAngle=0, pageHeaderMarkdown='\\nRONITH DHANESH\\n+91-6238159514 | ronithdhanesh@gmail.com | LinkedIn | GitHub\\n', pageFooterMarkdown='', slideSectionName=None, confidence=0.998)], job_metadata=JobMetadata(job_pages=0, job_auto_mode_triggered_pages=0, job_is_cache_hit=True, credits_used=0, job_credits_usage=0), file_name='Ronith Dhanesh.pdf', job_id='6dd803a2-20e1-46f9-ba2c-1855a0203d6d', is_done=False, error=None)"
      ]
     },
     "execution_count": 6,
     "metadata": {},
     "output_type": "execute_result"
    }
   ],
   "source": [
    "result"
   ]
  },
  {
   "cell_type": "code",
   "execution_count": 7,
   "id": "25e8f749",
   "metadata": {},
   "outputs": [
    {
     "data": {
      "text/plain": [
       "'                                                RONITH DHANESH\\n                      +91-6238159514 | ronithdhanesh@gmail.com | LinkedIn | GitHub\\nEDUCATION\\n\\n     •         VIT Bhopal University, Madhya Pradesh                                          (August, 2022- pursuing)\\n               B. Tech CSE(AIML) | CGPA: 8.52\\nSKILLS\\n     • Programming Languages: Python, Java, JavaScript, SQL\\n     • AI/ML and Libraries: TensorFlow, PyTorch, LangChain, LangGraph, Scikit-learn, OpenCV, NumPy, Pandas\\n     • Web Technologies: HTML, CSS, Streamlit, FastAPI\\n     • Tools and Frameworks: Git, Docker\\n     • Core Competencies: Generative AI & Agentic AI, Model Training & Evaluation, Computer Vision & Speech\\n     Recognition\\n\\nPROJECTS\\n\\nMultimodal Retrieval-Augmented Generation (RAG) System                                                          (June, 2025)\\nPython, LangChain, Google Gemini, CLIP, Streamlit, PyMuPDF\\n          •     Engineered a multimodal RAG system that improved information retrieval efficiency by over 90% by synthesizing\\n                data from both text and images in PDF documents.\\n          •     Utilized a multimodal model like CLIP to process documents containing up to 500 images, achieving high-fidelity\\n                embeddings in a unified vector space.\\n          •     Optimized application performance by reducing index build time by 98%, using a pre-built and saved vector database\\n                to enable near-instantaneous query responses.\\n          •     Live Demo: https://multimodal-rag-app-ronith.streamlit.app/\\n\\nAI-Powered Medical Report Analyzer                                                                              (June, 2025)\\nPython, LangChain, Groq, Tesseract OCR, Streamlit\\n          •     Engineered an AI-driven medical report analysis system by integrating OCR and LLMs via a LangChain framework\\n                to automate the extraction and interpretation of critical medical terminology.\\n          •     Developed a responsive web application with Streamlit, enabling real-time, multi-format and batch processing that\\n                reduced manual review time for medical reports by over 60%.\\n          •     Implemented robust data validation pipelines and error handling, significantly enhancing diagnostic workflow\\n                efficiency and improving accuracy for healthcare professionals.\\n\\nReal-Time Vehicle Detection and Counting System                                                                 (April, 2025)\\nPython, OpenCV, YOLOv8, SORT, Numpy\\n          •     Developed a computer vision pipeline that accurately monitors and counts vehicles in complex traffic scenarios\\n                using YOLOv8 detection and the SORT tracking algorithm.\\n          •     Optimized model performance by implementing binary masking techniques, achieving a stable 30+ FPS and a 40%\\n                reduction in computational load.\\n          •     Created an automated traffic data collection solution for urban planning initiatives, reducing the need for expensive\\n                and error-prone manual counting methods.\\n\\nEXTRACURRICULARS\\n\\n•         Certifications: IBM GenAI using Watsonx | IBM Blockchain Developer | IBM Blockchain Fundamentals |\\n          Applied Machine Learning in Python – Coursera | Gen AI – AdroIT Technologies | Blockchain – AdroIT\\n          Technologies\\n•         Media Team Lead: Malayalam Club – Directed content strategy and managed all social media platforms to promote club\\n          events and enhance public presence and engagement.\\n•         Strengths: Public speaking, event and people management, budgeting, creative planning, and leadership.\\n\\nADDITIONALS\\n\\n•         Languages: Fluent in English, Malayalam and Hindi'"
      ]
     },
     "execution_count": 7,
     "metadata": {},
     "output_type": "execute_result"
    }
   ],
   "source": [
    "result.pages[0].text"
   ]
  },
  {
   "cell_type": "code",
   "execution_count": 8,
   "id": "d3a84659",
   "metadata": {},
   "outputs": [],
   "source": [
    "full_text = \"\\n\".join(page.text for page in result.pages)\n",
    "\n"
   ]
  },
  {
   "cell_type": "code",
   "execution_count": 15,
   "id": "fb8a3ea0",
   "metadata": {},
   "outputs": [],
   "source": [
    "from langchain.prompts import ChatPromptTemplate\n",
    "from langchain.chains import LLMChain\n",
    "from langchain_core.output_parsers import JsonOutputParser\n",
    "from langchain_google_genai import ChatGoogleGenerativeAI"
   ]
  },
  {
   "cell_type": "code",
   "execution_count": 24,
   "id": "58749b3c",
   "metadata": {},
   "outputs": [],
   "source": [
    "\n",
    "prompt = ChatPromptTemplate.from_template(\"\"\"\n",
    "    Extract the following fields from the resume:\n",
    "    - Name\n",
    "    - Email\n",
    "    - Phone\n",
    "    - Education\n",
    "    - Skills\n",
    "    - Projects\n",
    "    - Certifications\n",
    "    - Languages\n",
    "    - Summary - analysing the entire profile of the candidate\n",
    "\n",
    "    Resume:\n",
    "    {resume_text}\n",
    "\n",
    "    Return as a valid JSON object.\n",
    "    \"\"\"\n",
    ")\n",
    "\n",
    "\n",
    "llm = ChatGoogleGenerativeAI(model=\"gemini-2.5-flash-lite\")"
   ]
  },
  {
   "cell_type": "code",
   "execution_count": 9,
   "id": "fdf13a06",
   "metadata": {},
   "outputs": [
    {
     "name": "stdout",
     "output_type": "stream",
     "text": [
      "Started parsing the file under job_id ba83488d-b606-4db2-800b-206786bf52df\n"
     ]
    },
    {
     "data": {
      "text/plain": [
       "'\\nRONITH DHANESH\\n+91-6238159514 | ronithdhanesh@gmail.com | LinkedIn | GitHub\\n\\n# EDUCATION\\n\\n• VIT Bhopal University, Madhya Pradesh (August, 2022- pursuing)\\n\\nB. Tech CSE(AIML) | CGPA: 8.52\\n\\n# SKILLS\\n\\n• Programming Languages: Python, Java, JavaScript, SQL\\n\\n• AI/ML and Libraries: TensorFlow, PyTorch, LangChain, LangGraph, Scikit-learn, OpenCV, NumPy, Pandas\\n\\n• Web Technologies: HTML, CSS, Streamlit, FastAPI\\n\\n• Tools and Frameworks: Git, Docker\\n\\n• Core Competencies: Generative AI &#x26; Agentic AI, Model Training &#x26; Evaluation, Computer Vision &#x26; Speech Recognition\\n\\n# PROJECTS\\n\\n# Multimodal Retrieval-Augmented Generation (RAG) System (June, 2025)\\n\\nPython, LangChain, Google Gemini, CLIP, Streamlit, PyMuPDF\\n\\n• Engineered a multimodal RAG system that improved information retrieval efficiency by over 90% by synthesizing data from both text and images in PDF documents.\\n\\n• Utilized a multimodal model like CLIP to process documents containing up to 500 images, achieving high-fidelity embeddings in a unified vector space.\\n\\n• Optimized application performance by reducing index build time by 98%, using a pre-built and saved vector database to enable near-instantaneous query responses.\\n\\n• Live Demo: https://multimodal-rag-app-ronith.streamlit.app/\\n\\n# AI-Powered Medical Report Analyzer (June, 2025)\\n\\nPython, LangChain, Groq, Tesseract OCR, Streamlit\\n\\n• Engineered an AI-driven medical report analysis system by integrating OCR and LLMs via a LangChain framework to automate the extraction and interpretation of critical medical terminology.\\n\\n• Developed a responsive web application with Streamlit, enabling real-time, multi-format and batch processing that reduced manual review time for medical reports by over 60%.\\n\\n• Implemented robust data validation pipelines and error handling, significantly enhancing diagnostic workflow efficiency and improving accuracy for healthcare professionals.\\n\\n# Real-Time Vehicle Detection and Counting System (April, 2025)\\n\\nPython, OpenCV, YOLOv8, SORT, Numpy\\n\\n• Developed a computer vision pipeline that accurately monitors and counts vehicles in complex traffic scenarios using YOLOv8 detection and the SORT tracking algorithm.\\n\\n• Optimized model performance by implementing binary masking techniques, achieving a stable 30+ FPS and a 40% reduction in computational load.\\n\\n• Created an automated traffic data collection solution for urban planning initiatives, reducing the need for expensive and error-prone manual counting methods.\\n\\n# EXTRACURRICULARS\\n\\n• Certifications: IBM GenAI using Watsonx | IBM Blockchain Developer | IBM Blockchain Fundamentals | Applied Machine Learning in Python – Coursera | Gen AI – AdroIT Technologies | Blockchain – AdroIT Technologies\\n\\n• Media Team Lead: Malayalam Club – Directed content strategy and managed all social media platforms to promote club events and enhance public presence and engagement.\\n\\n• Strengths: Public speaking, event and people management, budgeting, creative planning, and leadership.\\n\\n# ADDITIONALS\\n\\n• Languages: Fluent in English, Malayalam and Hindi\\n\\n'"
      ]
     },
     "execution_count": 9,
     "metadata": {},
     "output_type": "execute_result"
    }
   ],
   "source": [
    "parser = LlamaParse(result_type=\"markdown\")\n",
    "file_path = r\"C:\\Users\\USER\\Desktop\\Projects\\local_rag\\Ronith Dhanesh.pdf\"\n",
    "results = parser.load_data(file_path)\n",
    "resume_text = \"\\n\".join(doc.text for doc in results)\n",
    "resume_text"
   ]
  },
  {
   "cell_type": "code",
   "execution_count": 25,
   "id": "983a3b53",
   "metadata": {},
   "outputs": [],
   "source": [
    "chain = prompt | llm | JsonOutputParser()\n"
   ]
  },
  {
   "cell_type": "code",
   "execution_count": 26,
   "id": "586da5b7",
   "metadata": {},
   "outputs": [],
   "source": [
    "ans = chain.invoke({\"resume_text\":full_text})"
   ]
  },
  {
   "cell_type": "code",
   "execution_count": 27,
   "id": "5ab728ed",
   "metadata": {},
   "outputs": [
    {
     "data": {
      "text/plain": [
       "{'Name': 'RONITH DHANESH',\n",
       " 'Email': 'ronithdhanesh@gmail.com',\n",
       " 'Phone': '+91-6238159514',\n",
       " 'Education': [{'Institution': 'VIT Bhopal University, Madhya Pradesh',\n",
       "   'Degree': 'B. Tech CSE(AIML)',\n",
       "   'CGPA': '8.52',\n",
       "   'Dates': 'August, 2022- pursuing'}],\n",
       " 'Skills': {'Programming Languages': ['Python', 'Java', 'JavaScript', 'SQL'],\n",
       "  'AI/ML and Libraries': ['TensorFlow',\n",
       "   'PyTorch',\n",
       "   'LangChain',\n",
       "   'LangGraph',\n",
       "   'Scikit-learn',\n",
       "   'OpenCV',\n",
       "   'NumPy',\n",
       "   'Pandas'],\n",
       "  'Web Technologies': ['HTML', 'CSS', 'Streamlit', 'FastAPI'],\n",
       "  'Tools and Frameworks': ['Git', 'Docker'],\n",
       "  'Core Competencies': ['Generative AI & Agentic AI',\n",
       "   'Model Training & Evaluation',\n",
       "   'Computer Vision & Speech Recognition']},\n",
       " 'Projects': [{'Title': 'Multimodal Retrieval-Augmented Generation (RAG) System',\n",
       "   'Technologies': ['Python',\n",
       "    'LangChain',\n",
       "    'Google Gemini',\n",
       "    'CLIP',\n",
       "    'Streamlit',\n",
       "    'PyMuPDF'],\n",
       "   'Description': ['Engineered a multimodal RAG system that improved information retrieval efficiency by over 90% by synthesizing data from both text and images in PDF documents.',\n",
       "    'Utilized a multimodal model like CLIP to process documents containing up to 500 images, achieving high-fidelity embeddings in a unified vector space.',\n",
       "    'Optimized application performance by reducing index build time by 98%, using a pre-built and saved vector database to enable near-instantaneous query responses.'],\n",
       "   'Live Demo': 'https://multimodal-rag-app-ronith.streamlit.app/',\n",
       "   'CompletionDate': 'June, 2025'},\n",
       "  {'Title': 'AI-Powered Medical Report Analyzer',\n",
       "   'Technologies': ['Python',\n",
       "    'LangChain',\n",
       "    'Groq',\n",
       "    'Tesseract OCR',\n",
       "    'Streamlit'],\n",
       "   'Description': ['Engineered an AI-driven medical report analysis system by integrating OCR and LLMs via a LangChain framework to automate the extraction and interpretation of critical medical terminology.',\n",
       "    'Developed a responsive web application with Streamlit, enabling real-time, multi-format and batch processing that reduced manual review time for medical reports by over 60%.',\n",
       "    'Implemented robust data validation pipelines and error handling, significantly enhancing diagnostic workflow efficiency and improving accuracy for healthcare professionals.'],\n",
       "   'CompletionDate': 'June, 2025'},\n",
       "  {'Title': 'Real-Time Vehicle Detection and Counting System',\n",
       "   'Technologies': ['Python', 'OpenCV', 'YOLOv8', 'SORT', 'Numpy'],\n",
       "   'Description': ['Developed a computer vision pipeline that accurately monitors and counts vehicles in complex traffic scenarios using YOLOv8 detection and the SORT tracking algorithm.',\n",
       "    'Optimized model performance by implementing binary masking techniques, achieving a stable 30+ FPS and a 40% reduction in computational load.',\n",
       "    'Created an automated traffic data collection solution for urban planning initiatives, reducing the need for expensive and error-prone manual counting methods.'],\n",
       "   'CompletionDate': 'April, 2025'}],\n",
       " 'Certifications': ['IBM GenAI using Watsonx',\n",
       "  'IBM Blockchain Developer',\n",
       "  'IBM Blockchain Fundamentals',\n",
       "  'Applied Machine Learning in Python – Coursera',\n",
       "  'Gen AI – AdroIT Technologies',\n",
       "  'Blockchain – AdroIT Technologies'],\n",
       " 'Languages': ['English', 'Malayalam', 'Hindi'],\n",
       " 'Summary': 'Ronith Dhanesh is a driven B. Tech CSE student specializing in Artificial Intelligence and Machine Learning, with a strong academic record (CGPA 8.52) and a clear focus on Generative AI and Agentic AI. He possesses a robust technical skill set including proficiency in Python, Java, JavaScript, and SQL, along with extensive experience in AI/ML libraries such as TensorFlow, PyTorch, LangChain, and OpenCV. Ronith has demonstrated practical application of these skills through impactful projects like a Multimodal RAG system, an AI-Powered Medical Report Analyzer, and a Real-Time Vehicle Detection system, showcasing his ability to engineer complex solutions and achieve significant performance improvements. His experience extends to web technologies like Streamlit and FastAPI, and tools like Git and Docker. Beyond technical expertise, Ronith exhibits leadership qualities, as evidenced by his role as Media Team Lead and his strengths in public speaking, event management, and creative planning. He is also multilingual, fluent in English, Malayalam, and Hindi, and has obtained several relevant certifications in GenAI and Blockchain technology.'}"
      ]
     },
     "execution_count": 27,
     "metadata": {},
     "output_type": "execute_result"
    }
   ],
   "source": [
    "ans"
   ]
  },
  {
   "cell_type": "code",
   "execution_count": 28,
   "id": "157b24e3",
   "metadata": {},
   "outputs": [],
   "source": [
    "job_description = \"\"\"\n",
    "Duration: 6 months starting Aug'25 first week (non-negotiable)\n",
    "Working Model: Full-time onsite (candidate need to arrange required NOC from the college)\n",
    "Location: BKC, Mumbai\n",
    "\n",
    "\n",
    "About Us\n",
    "\n",
    "Avendus is a leading global financial services firm. With a robust track record of delivering exceptional results, Avendus offers strategic advisory services, capital raising solutions, institutional broking, funds and comprehensive wealth management to a diverse clientele. The firm leverages deep industry knowledge, a vast network, and innovative approaches to drive growth and value for its clients through technology. Avendus is committed to excellence, integrity, and building lasting partnerships in the financial landscape.\n",
    "\n",
    "\n",
    "Role Overview\n",
    "\n",
    "As an AI Intern, you will play a key role in developing and optimizing knowledge graph algorithms and exploring applications of generative AI. Your responsibilities will include solving complex problems at the intersection of these technologies.\n",
    "\n",
    "\n",
    "Key Responsibilities\n",
    "\n",
    "Knowledge Graph Algorithms: Work on developing and optimizing algorithms related to knowledge graphs.\n",
    "Generative AI: Apply generative AI techniques to solve complex problems and enhance existing solutions.\n",
    "Frontend Development: Build and maintain frontend applications to facilitate the consumption of developed solutions.\n",
    "Vendor Collaboration: Running MVPs and collaborating with different vendors.\n",
    "Project Involvement: Contribute to various other projects as needed, providing support and insight into different areas.\n",
    "\n",
    "\n",
    "Requirements\n",
    "\n",
    "\n",
    "\n",
    "Technical Skills\n",
    "\n",
    "Extensive programming experience with a track record of completing technical projects.\n",
    "Proficiency in Python.\n",
    "Experience with machine learning techniques and tools.\n",
    "Knowledge and Experience:\n",
    "\n",
    "Understanding of knowledge graph algorithms and their applications.\n",
    "Familiarity with generative AI and its practical uses.\n",
    "Experience with frontend development frameworks and tools.\n",
    "Education:\n",
    "\n",
    "Pursuing or completed a degree in Computer Science, Data Science, Engineering, or a related field.\n",
    "Additional Skills:\n",
    "\n",
    "Strong problem-solving abilities and analytical skills.\n",
    "Excellent communication and teamwork skills.\n",
    "Ability to manage multiple tasks and projects effectively.\n",
    "\n",
    "\n",
    "What We Offer\n",
    "\n",
    "Learning Experience: Gain hands-on experience in cutting-edge technologies and real-world applications.\n",
    "Mentorship: Work closely with experienced professionals and receive guidance on career development.\n",
    "Dynamic Environment\"\"\""
   ]
  },
  {
   "cell_type": "code",
   "execution_count": 29,
   "id": "e7d6b1d4",
   "metadata": {},
   "outputs": [],
   "source": [
    "prompt = ChatPromptTemplate.from_template(\"\"\"\n",
    "You are an expert HR assistant.\n",
    "\n",
    "You will receive:\n",
    "1. A job description (JD)\n",
    "2. A parsed resume text\n",
    "\n",
    "Your job:\n",
    "- Extract the candidate’s main qualifications (skills, education, projects)\n",
    "- Compare them to the job description\n",
    "- Return:\n",
    "    1. A JSON object with the following keys:\n",
    "        - match_score (0-100)\n",
    "        - summary_of_fit (a few sentences explaining the match)\n",
    "        - matched_skills (list)\n",
    "        - missing_skills (list)\n",
    "        - education_relevance (short summary)\n",
    "        - experience_relevance (short summary)\n",
    "\n",
    "### Job Description\n",
    "{job_description}\n",
    "\n",
    "### Resume\n",
    "{resume_text}\n",
    "\n",
    "Return ONLY valid JSON.\n",
    "\"\"\")\n",
    "\n",
    "chain1 = prompt | llm | JsonOutputParser()\n",
    "\n",
    "finalans = chain1.invoke({\"job_description\" : job_description, \"resume_text\" : ans})"
   ]
  },
  {
   "cell_type": "code",
   "execution_count": 30,
   "id": "223121f3",
   "metadata": {},
   "outputs": [
    {
     "data": {
      "text/plain": [
       "{'match_score': 95,\n",
       " 'summary_of_fit': 'The candidate possesses a strong academic background in CSE (AIML) with a high CGPA and extensive practical experience in AI/ML, particularly in Generative AI and knowledge graphs. Their projects demonstrate a deep understanding of relevant technologies and problem-solving capabilities. While they meet most requirements, direct experience with frontend development frameworks beyond Streamlit and specific vendor collaboration would further enhance their fit.',\n",
       " 'matched_skills': ['Python',\n",
       "  'Machine learning techniques',\n",
       "  'Knowledge graph algorithms',\n",
       "  'Generative AI',\n",
       "  'Frontend Development (Streamlit, FastAPI)',\n",
       "  'Problem-solving abilities',\n",
       "  'Analytical skills',\n",
       "  'Teamwork skills'],\n",
       " 'missing_skills': ['Experience with specific frontend development frameworks (e.g., React, Angular, Vue.js)',\n",
       "  'Vendor Collaboration experience'],\n",
       " 'education_relevance': 'Currently pursuing a B. Tech in CSE with a specialization in AI/ML, which is highly relevant to the role. The candidate is on track to complete their degree soon.',\n",
       " 'experience_relevance': 'The candidate has a strong portfolio of projects directly related to Generative AI and knowledge graphs, demonstrating practical application of relevant skills. Their experience with Python, AI/ML libraries, and web technologies is extensive and aligns well with the job requirements.'}"
      ]
     },
     "execution_count": 30,
     "metadata": {},
     "output_type": "execute_result"
    }
   ],
   "source": [
    "finalans"
   ]
  },
  {
   "cell_type": "code",
   "execution_count": null,
   "id": "bceae262",
   "metadata": {},
   "outputs": [],
   "source": []
  }
 ],
 "metadata": {
  "kernelspec": {
   "display_name": ".venv",
   "language": "python",
   "name": "python3"
  },
  "language_info": {
   "codemirror_mode": {
    "name": "ipython",
    "version": 3
   },
   "file_extension": ".py",
   "mimetype": "text/x-python",
   "name": "python",
   "nbconvert_exporter": "python",
   "pygments_lexer": "ipython3",
   "version": "3.13.6"
  }
 },
 "nbformat": 4,
 "nbformat_minor": 5
}
